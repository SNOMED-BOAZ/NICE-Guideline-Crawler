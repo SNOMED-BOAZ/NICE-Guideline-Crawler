{
 "cells": [
  {
   "cell_type": "code",
   "execution_count": 1,
   "metadata": {},
   "outputs": [],
   "source": [
    "import pandas as pd"
   ]
  },
  {
   "cell_type": "code",
   "execution_count": 3,
   "metadata": {},
   "outputs": [
    {
     "data": {
      "text/html": [
       "<div>\n",
       "<style scoped>\n",
       "    .dataframe tbody tr th:only-of-type {\n",
       "        vertical-align: middle;\n",
       "    }\n",
       "\n",
       "    .dataframe tbody tr th {\n",
       "        vertical-align: top;\n",
       "    }\n",
       "\n",
       "    .dataframe thead th {\n",
       "        text-align: right;\n",
       "    }\n",
       "</style>\n",
       "<table border=\"1\" class=\"dataframe\">\n",
       "  <thead>\n",
       "    <tr style=\"text-align: right;\">\n",
       "      <th></th>\n",
       "      <th>title</th>\n",
       "      <th>url</th>\n",
       "      <th>reference</th>\n",
       "      <th>published_date</th>\n",
       "      <th>last_updated</th>\n",
       "    </tr>\n",
       "  </thead>\n",
       "  <tbody>\n",
       "    <tr>\n",
       "      <th>0</th>\n",
       "      <td>Ganaxolone for treating seizures caused by CDK...</td>\n",
       "      <td>https://www.nice.org.uk/guidance/ta1033</td>\n",
       "      <td>TA1033</td>\n",
       "      <td>12 February 2025</td>\n",
       "      <td>12 February 2025</td>\n",
       "    </tr>\n",
       "    <tr>\n",
       "      <th>1</th>\n",
       "      <td>Selpercatinib for advanced thyroid cancer with...</td>\n",
       "      <td>https://www.nice.org.uk/guidance/ta1038</td>\n",
       "      <td>TA1038</td>\n",
       "      <td>12 February 2025</td>\n",
       "      <td>12 February 2025</td>\n",
       "    </tr>\n",
       "    <tr>\n",
       "      <th>2</th>\n",
       "      <td>Selpercatinib for advanced thyroid cancer with...</td>\n",
       "      <td>https://www.nice.org.uk/guidance/ta1039</td>\n",
       "      <td>TA1039</td>\n",
       "      <td>12 February 2025</td>\n",
       "      <td>12 February 2025</td>\n",
       "    </tr>\n",
       "    <tr>\n",
       "      <th>3</th>\n",
       "      <td>Olaparib for treating BRCA mutation-positive H...</td>\n",
       "      <td>https://www.nice.org.uk/guidance/ta1040</td>\n",
       "      <td>TA1040</td>\n",
       "      <td>12 February 2025</td>\n",
       "      <td>12 February 2025</td>\n",
       "    </tr>\n",
       "    <tr>\n",
       "      <th>4</th>\n",
       "      <td>Artificial intelligence-derived software to an...</td>\n",
       "      <td>https://www.nice.org.uk/guidance/hte12</td>\n",
       "      <td>HTE12</td>\n",
       "      <td>28 September 2023</td>\n",
       "      <td>10 February 2025</td>\n",
       "    </tr>\n",
       "  </tbody>\n",
       "</table>\n",
       "</div>"
      ],
      "text/plain": [
       "                                               title  \\\n",
       "0  Ganaxolone for treating seizures caused by CDK...   \n",
       "1  Selpercatinib for advanced thyroid cancer with...   \n",
       "2  Selpercatinib for advanced thyroid cancer with...   \n",
       "3  Olaparib for treating BRCA mutation-positive H...   \n",
       "4  Artificial intelligence-derived software to an...   \n",
       "\n",
       "                                       url reference     published_date  \\\n",
       "0  https://www.nice.org.uk/guidance/ta1033    TA1033   12 February 2025   \n",
       "1  https://www.nice.org.uk/guidance/ta1038    TA1038   12 February 2025   \n",
       "2  https://www.nice.org.uk/guidance/ta1039    TA1039   12 February 2025   \n",
       "3  https://www.nice.org.uk/guidance/ta1040    TA1040   12 February 2025   \n",
       "4   https://www.nice.org.uk/guidance/hte12     HTE12  28 September 2023   \n",
       "\n",
       "       last_updated  \n",
       "0  12 February 2025  \n",
       "1  12 February 2025  \n",
       "2  12 February 2025  \n",
       "3  12 February 2025  \n",
       "4  10 February 2025  "
      ]
     },
     "execution_count": 3,
     "metadata": {},
     "output_type": "execute_result"
    }
   ],
   "source": [
    "df = pd.read_csv('guidance_2000-01-01_2025-02-15_2025-02-15.csv')\n",
    "df.head()"
   ]
  },
  {
   "cell_type": "code",
   "execution_count": null,
   "metadata": {},
   "outputs": [],
   "source": []
  }
 ],
 "metadata": {
  "kernelspec": {
   "display_name": "crawl-guidance",
   "language": "python",
   "name": "python3"
  },
  "language_info": {
   "codemirror_mode": {
    "name": "ipython",
    "version": 3
   },
   "file_extension": ".py",
   "mimetype": "text/x-python",
   "name": "python",
   "nbconvert_exporter": "python",
   "pygments_lexer": "ipython3",
   "version": "3.11.7"
  }
 },
 "nbformat": 4,
 "nbformat_minor": 2
}
